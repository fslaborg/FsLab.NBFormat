{
 "cells": [
  {
   "attachments": {},
   "cell_type": "markdown",
   "metadata": {},
   "source": [
    "# Markdown"
   ]
  },
  {
   "cell_type": "code",
   "execution_count": 1,
   "metadata": {
    "dotnet_interactive": {
     "language": "fsharp"
    },
    "polyglot_notebook": {
     "kernelName": "fsharp"
    }
   },
   "outputs": [
    {
     "data": {
      "text/html": ["<div class=\"dni-plaintext\"><pre>42</pre></div><style>\r\n",
        ".dni-code-hint {\r\n",
        "    font-style: italic;\r\n",
        "    overflow: hidden;\r\n",
        "    white-space: nowrap;\r\n",
        "}\r\n",
        ".dni-treeview {\r\n",
        "    white-space: nowrap;\r\n",
        "}\r\n",
        ".dni-treeview td {\r\n",
        "    vertical-align: top;\r\n",
        "    text-align: start;\r\n",
        "}\r\n",
        "details.dni-treeview {\r\n",
        "    padding-left: 1em;\r\n",
        "}\r\n",
        "table td {\r\n",
        "    text-align: start;\r\n",
        "}\r\n",
        "table tr { \r\n",
        "    vertical-align: top; \r\n",
        "    margin: 0em 0px;\r\n",
        "}\r\n",
        "table tr td pre \r\n",
        "{ \r\n",
        "    vertical-align: top !important; \r\n",
        "    margin: 0em 0px !important;\r\n",
        "} \r\n",
        "table th {\r\n",
        "    text-align: start;\r\n",
        "}\r\n",
        "</style>"
      ]
     },
     "metadata": {},
     "output_type": "display_data"
    }
   ],
   "source": [
    "let a = 42\n",
    "\n",
    "a"
   ]
  }
 ],
 "metadata": {
  "kernelspec": {
   "display_name": ".NET (F#)",
   "language": "F#",
   "name": ".net-fsharp"
  },
  "language_info": {
   "name": "polyglot-notebook"
  },
  "polyglot_notebook": {
   "kernelInfo": {
    "defaultKernelName": "fsharp",
    "items": [
     {
      "aliases": [],
      "languageName": "fsharp",
      "name": "fsharp"
     }
    ]
   }
  }
 },
 "nbformat": 4,
 "nbformat_minor": 2
}
